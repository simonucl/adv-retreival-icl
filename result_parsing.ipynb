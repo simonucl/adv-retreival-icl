{
 "cells": [
  {
   "cell_type": "code",
   "execution_count": null,
   "metadata": {},
   "outputs": [],
   "source": [
    "import pandas as pd\n",
    "import numpy as np\n",
    "import matplotlib.pyplot as plt\n",
    "import seaborn as sns\n",
    "import os"
   ]
  },
  {
   "cell_type": "markdown",
   "metadata": {},
   "source": [
    "### Parsing ICL"
   ]
  },
  {
   "cell_type": "code",
   "execution_count": null,
   "metadata": {},
   "outputs": [],
   "source": [
    "dataset='mnli'\n",
    "model_name='meta-llama/Llama-2-7b-hf'\n",
    "\n",
    "results_path = f'./checkpoints/{dataset}/{model_name}/textbugger/'\n",
    "\n",
    "# attacks = ['swap_labels', 'swap_labels_fix_dist']\n",
    "attacks = ['swap_labels']\n",
    "seeds = [1, 13, 42]\n",
    "shots = [2, 4, 8, 16]\n",
    "results = []\n",
    "\n",
    "results_path = f'./checkpoints/{dataset}/{model_name}/'\n",
    "for seed in seeds:\n",
    "    for attack in attacks:\n",
    "        for shot in shots:\n",
    "            file = f'{results_path}{attack}/icl_attack-seed-{seed}-shot-{shot}/logs_{attack}.txt'\n",
    "            if os.path.isfile(file):\n",
    "                with open(file) as f:\n",
    "                    lines = f.readlines()\n",
    "                    result = {'seed': seed, 'shot': shot, 'attack': attack, 'method': 'icl'}\n",
    "                    for line in lines:\n",
    "                        if 'Original accuracy:' in line:\n",
    "                            result['Clean Acc'] = float(line.split(':')[1].strip().replace('%', '').strip('| '))\n",
    "                        elif 'Accuracy under attack:' in line:\n",
    "                            result['Attack Acc'] = float(line.split(':')[1].strip().replace('%', '').strip('| '))\n",
    "                        elif 'Attack success rate:' in line:\n",
    "                            result['ASR'] = float(line.split(':')[1].strip().replace('%', '').strip('| '))\n",
    "                        elif 'Average perturbed word %:' in line:\n",
    "                            result['Perturbed Word Ratio'] = float(line.split(':')[1].strip().replace('%', '').strip('| '))\n",
    "                        elif 'Average Attack Perplexity:' in line:\n",
    "                            result['Attack Perplexity'] = float(line.split(':')[1].strip().strip('| '))\n",
    "\n",
    "                    results.append(result)\n",
    "            else:\n",
    "                print(f'File {file} not found')"
   ]
  },
  {
   "cell_type": "code",
   "execution_count": null,
   "metadata": {},
   "outputs": [],
   "source": [
    "icl_df = pd.DataFrame(results)\n",
    "# drop the method column\n",
    "icl_df = icl_df.drop(columns=['method'])\n",
    "\n",
    "icl_df_mean = icl_df.groupby(['shot', 'attack']).mean().round(2)\n",
    "icl_df_std = icl_df.groupby(['shot', 'attack']).std().round(2)\n",
    "\n",
    "# combine the mean and std into a single dataframe with plus minus sign\n",
    "icl_df_mean_std = icl_df_mean.astype(str) + ' ± ' + icl_df_std.astype(str)\n",
    "icl_df_mean_std"
   ]
  },
  {
   "cell_type": "markdown",
   "metadata": {},
   "source": [
    "### Parsing kNN-ICL"
   ]
  },
  {
   "cell_type": "code",
   "execution_count": null,
   "metadata": {},
   "outputs": [],
   "source": [
    "dataset='mr'\n",
    "model_name='meta-llama/Llama-2-7b-hf'\n",
    "\n",
    "results_path = f'./checkpoints/{dataset}/{model_name}/'\n",
    "\n",
    "attacks = ['irrelevant_sample']\n",
    "seeds = [1, 13, 42]\n",
    "shots = [2, 4, 8, 16]\n",
    "results = []\n",
    "\n",
    "for seed in seeds:\n",
    "    for attack in attacks:\n",
    "        for shot in shots:\n",
    "            file = f'{results_path}{attack}/knn_icl-seed-{seed}-shot-{shot}/logs_{attack}.txt'\n",
    "            if os.path.isfile(file):\n",
    "                with open(file) as f:\n",
    "                    lines = f.readlines()\n",
    "                    result = {'seed': seed, 'shot': shot, 'attack': attack}\n",
    "                    for line in lines:\n",
    "                        if 'Original accuracy:' in line:\n",
    "                            result['Clean Acc'] = float(line.split(':')[1].strip().replace('%', '').strip('| '))\n",
    "                        elif 'Accuracy under attack:' in line:\n",
    "                            result['Attack Acc'] = float(line.split(':')[1].strip().replace('%', '').strip('| '))\n",
    "                        elif 'Attack success rate:' in line:\n",
    "                            result['ASR'] = float(line.split(':')[1].strip().replace('%', '').strip('| '))\n",
    "                        elif 'Average perturbed word %:' in line:\n",
    "                            result['Perturbed Word Ratio'] = float(line.split(':')[1].strip().replace('%', '').strip('| '))\n",
    "                        elif 'Average Attack Perplexity:' in line:\n",
    "                            result['Attack Perplexity'] = float(line.split(':')[1].strip().strip('| '))\n",
    "\n",
    "                    results.append(result)"
   ]
  },
  {
   "cell_type": "code",
   "execution_count": null,
   "metadata": {},
   "outputs": [],
   "source": [
    "knn_df = pd.DataFrame(results)\n",
    "# compute the mean and std for Clean Acc, Attack Acc, ASR, Perturbed Word Ratio, Attack Perplexity for knn_df\n",
    "knn_df_mean = knn_df.groupby(['shot', 'attack']).mean().round(2)\n",
    "knn_df_std = knn_df.groupby(['shot', 'attack']).std().round(2)\n",
    "\n",
    "# combine the mean and std into a single dataframe with plus minus sign\n",
    "knn_df_mean_std = knn_df_mean.astype(str) + ' ± ' + knn_df_std.astype(str)\n",
    "knn_df_mean_std"
   ]
  },
  {
   "cell_type": "markdown",
   "metadata": {},
   "source": [
    "### Parsing Retriever"
   ]
  },
  {
   "cell_type": "code",
   "execution_count": null,
   "metadata": {},
   "outputs": [],
   "source": [
    "dataset='mnli'\n",
    "model_name='meta-llama/Llama-2-7b-hf'\n",
    "\n",
    "retrievers = ['bm25', 'sbert', 'instructor']\n",
    "\n",
    "\n",
    "attacks = ['textfooler', 'textbugger', 'bert_attack']\n",
    "seed = 1\n",
    "shots = [2, 4, 8, 16]\n",
    "results = []\n",
    "\n",
    "results_path = f'./checkpoints/{dataset}/{model_name}/'\n",
    "\n",
    "for ret in retrievers:\n",
    "    for attack in attacks:\n",
    "        for shot in shots:\n",
    "            file = f'{results_path}{attack}/retrieval_icl-seed-{seed}-shot-{shot}/logs_{attack}_{ret}.txt'\n",
    "            if os.path.isfile(file):\n",
    "                with open(file) as f:\n",
    "                    lines = f.readlines()\n",
    "                    result = {'shot': shot, 'attack': attack, 'ret': ret}\n",
    "                    for line in lines:\n",
    "                        if 'Original accuracy:' in line:\n",
    "                            result['Clean Acc'] = float(line.split(':')[1].strip().replace('%', '').strip('| '))\n",
    "                        elif 'Accuracy under attack:' in line:\n",
    "                            result['Attack Acc'] = float(line.split(':')[1].strip().replace('%', '').strip('| '))\n",
    "                        elif 'Attack success rate:' in line:\n",
    "                            result['ASR'] = float(line.split(':')[1].strip().replace('%', '').strip('| '))\n",
    "                        elif 'Average perturbed word %:' in line:\n",
    "                            result['Perturbed Word Ratio'] = float(line.split(':')[1].strip().replace('%', '').strip('| '))\n",
    "                        elif 'Average Attack Perplexity:' in line:\n",
    "                            result['Attack Perplexity'] = float(line.split(':')[1].strip().strip('| '))\n",
    "            \n",
    "                    results.append(result)\n",
    "            else:\n",
    "                print(file)"
   ]
  },
  {
   "cell_type": "code",
   "execution_count": null,
   "metadata": {},
   "outputs": [],
   "source": [
    "pd.DataFrame(results)"
   ]
  },
  {
   "cell_type": "code",
   "execution_count": null,
   "metadata": {},
   "outputs": [],
   "source": [
    "# Compute the mean and std for Clean Acc, Attack Acc, ASR, Perturbed Word Ratio, Attack Perplexity for icl_df\n",
    "\n",
    "icl_df_mean = icl_df.groupby(['shot', 'attack']).mean().round(2)\n",
    "icl_df_std = icl_df.groupby(['shot', 'attack']).std().round(2)\n",
    "\n",
    "# combine the mean and std into a single dataframe with plus minus sign\n",
    "icl_df_mean_std = icl_df_mean.astype(str) + ' ± ' + icl_df_std.astype(str)\n",
    "icl_df_mean_std"
   ]
  },
  {
   "cell_type": "markdown",
   "metadata": {},
   "source": [
    "### kNN Analysis"
   ]
  },
  {
   "cell_type": "code",
   "execution_count": null,
   "metadata": {},
   "outputs": [],
   "source": [
    "dataset='sst2'\n",
    "model_name='meta-llama/Llama-2-7b-hf'\n",
    "\n",
    "results_path = f'./checkpoints/{dataset}/{model_name}/textfooler/'\n",
    "\n",
    "# attacks = ['textbugger', 'textfooler']\n",
    "attacks = ['textfooler']\n",
    "ks = [1, 3, 7, 15, 31, 63, 127, 255, 511]\n",
    "results = []\n",
    "for seed in [1]:\n",
    "    for shot in [16, 32, 64, 128, 256, 512]:\n",
    "        for k in [x for x in ks if x < shot]:\n",
    "            for attack in attacks:\n",
    "                try:\n",
    "                    file = f'{results_path}knn_icl-seed-{seed}-shot-{shot}/example-k-{k}/logs_{attack}_test.txt'\n",
    "                    if os.path.isfile(file) == False:\n",
    "                        file = f'{results_path}knn_icl-seed-{seed}-shot-{shot}/example-k-{k}/logs_{attack}_0.15_test.txt'\n",
    "                    \"\"\"\n",
    "                    locate and parse the following in the file \n",
    "                    +-------------------------------+--------+\n",
    "| Attack Results                |        |\n",
    "+-------------------------------+--------+\n",
    "| Number of successful attacks: | 534    |\n",
    "| Number of failed attacks:     | 178    |\n",
    "| Number of skipped attacks:    | 160    |\n",
    "| Original accuracy:            | 81.65% |\n",
    "| Accuracy under attack:        | 20.41% |\n",
    "| Attack success rate:          | 75.0%  |\n",
    "| Average perturbed word %:     | 8.36%  |\n",
    "| Average num. words per input: | 17.4   |\n",
    "| Avg num queries:              | 74.37  |\n",
    "| Adv confidence:               | 1.0    |\n",
    "| Average Original Perplexity:  | 61.62  |\n",
    "| Average Attack Perplexity:    | 86.19  |\n",
    "| Average Attack USE Score:     | 0.88   |\n",
    "+-------------------------------+--------+\n",
    "                    \"\"\" \n",
    "                    with open(file, 'r') as f:\n",
    "                        lines = f.readlines()\n",
    "                except:\n",
    "                    print(f'file {file} not found')\n",
    "                    continue\n",
    "\n",
    "                result = {'seed': seed, 'shot': shot, 'k': k, 'attack': attack}\n",
    "                for line in lines:\n",
    "                    if 'Original accuracy:' in line:\n",
    "                        result['Clean Acc'] = float(line.split(':')[1].strip().replace('%', '').strip('| '))\n",
    "                    elif 'Accuracy under attack:' in line:\n",
    "                        result['Attack Acc'] = float(line.split(':')[1].strip().replace('%', '').strip('| '))\n",
    "                    elif 'Attack success rate:' in line:\n",
    "                        result['ASR'] = float(line.split(':')[1].strip().replace('%', '').strip('| '))\n",
    "                    elif 'Average perturbed word %:' in line:\n",
    "                        result['Perturbed Word Ratio'] = float(line.split(':')[1].strip().replace('%', '').strip('| '))\n",
    "                    elif 'Average Attack Perplexity:' in line:\n",
    "                        result['Attack Perplexity'] = float(line.split(':')[1].strip().strip('| '))\n",
    "\n",
    "                results.append(result)\n"
   ]
  },
  {
   "cell_type": "code",
   "execution_count": null,
   "metadata": {},
   "outputs": [],
   "source": [
    "df = pd.DataFrame(results)\n",
    "df.head()"
   ]
  },
  {
   "cell_type": "code",
   "execution_count": null,
   "metadata": {},
   "outputs": [],
   "source": [
    "df.to_csv(f'{results_path}results.csv', index=False)"
   ]
  },
  {
   "cell_type": "code",
   "execution_count": null,
   "metadata": {},
   "outputs": [],
   "source": [
    "textfooler = df[df['attack'] == 'textfooler']\n",
    "\n",
    "textfooler = textfooler[['shot', 'k', 'Perturbed Word Ratio']]\n",
    "# keep unique row\n",
    "textfooler = textfooler.drop_duplicates()\n",
    "\n",
    "ks = [1, 3, 7, 15, 31, 63, 127, 255]\n",
    "# make k as string and categorical\n",
    "textfooler['k'] = textfooler['k'].astype(str)\n",
    "textfooler['k'] = textfooler['k'].astype('category')\n",
    "\n",
    "color_palette = ['#311A3C', '#672555', '#9F2958', '#CF4448', '#E37D5A', '#ECB795']\n",
    "color_palette = sns.color_palette(\"rocket\")\n",
    "# sort the k column\n",
    "textfooler['k'] = textfooler['k'].cat.reorder_categories([str(k) for k in ks], ordered=True)\n",
    "# plot line graph with k as the x-axis, Clean Acc as the y-axis and shot as the hue\n",
    "\n",
    "# grid\n",
    "sns.set_style(\"darkgrid\")\n",
    "\n",
    "sns.lineplot(data=textfooler, x='k', y='Perturbed Word Ratio', hue='shot', palette=color_palette, ci=None, linewidth=2)\n",
    "# legend\n",
    "plt.legend(loc='lower right', title='Shot', fontsize=12)\n",
    "# title \"Clean Acc vs k\"\n",
    "plt.title('Perturbed Word Ratio (TextFooler)')\n",
    "# rescale x-axis as categorical\n",
    "\n",
    "textfooler.head()"
   ]
  },
  {
   "cell_type": "code",
   "execution_count": null,
   "metadata": {},
   "outputs": [],
   "source": [
    "textfooler = df[df['attack'] == 'textfooler']\n",
    "\n",
    "textfooler = textfooler[['shot', 'k', 'Attack Perplexity']]\n",
    "# keep unique row\n",
    "textfooler = textfooler.drop_duplicates()\n",
    "\n",
    "ks = [1, 3, 7, 15, 31, 63, 127, 255]\n",
    "# make k as string and categorical\n",
    "textfooler['k'] = textfooler['k'].astype(str)\n",
    "textfooler['k'] = textfooler['k'].astype('category')\n",
    "\n",
    "color_palette = ['#311A3C', '#672555', '#9F2958', '#CF4448', '#E37D5A', '#ECB795']\n",
    "color_palette = sns.color_palette(\"rocket\")\n",
    "# sort the k column\n",
    "textfooler['k'] = textfooler['k'].cat.reorder_categories([str(k) for k in ks], ordered=True)\n",
    "# plot line graph with k as the x-axis, Clean Acc as the y-axis and shot as the hue\n",
    "\n",
    "# grid\n",
    "sns.set_style(\"darkgrid\")\n",
    "\n",
    "sns.lineplot(data=textfooler, x='k', y='Attack Perplexity', hue='shot', palette=color_palette, ci=None, linewidth=2)\n",
    "# legend\n",
    "plt.legend(loc='lower right', title='Shot', fontsize=12)\n",
    "# title \"Clean Acc vs k\"\n",
    "plt.title('Attack Perplexity (TextFooler)')\n",
    "# rescale x-axis as categorical\n",
    "\n",
    "textfooler.head()"
   ]
  },
  {
   "cell_type": "markdown",
   "metadata": {},
   "source": []
  }
 ],
 "metadata": {
  "kernelspec": {
   "display_name": "Python 3",
   "language": "python",
   "name": "python3"
  },
  "language_info": {
   "codemirror_mode": {
    "name": "ipython",
    "version": 3
   },
   "file_extension": ".py",
   "mimetype": "text/x-python",
   "name": "python",
   "nbconvert_exporter": "python",
   "pygments_lexer": "ipython3",
   "version": "3.8.0"
  },
  "orig_nbformat": 4
 },
 "nbformat": 4,
 "nbformat_minor": 2
}
